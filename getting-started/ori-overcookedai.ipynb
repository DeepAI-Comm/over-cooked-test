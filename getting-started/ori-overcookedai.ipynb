{
 "cells": [
  {
   "cell_type": "code",
   "execution_count": 1,
   "id": "5549530d",
   "metadata": {},
   "outputs": [],
   "source": [
    "from overcooked_ai_py.agents.benchmarking import AgentEvaluator\n",
    "from overcooked_ai_py.agents.agent import AgentPair, FixedPlanAgent, GreedyHumanModel, RandomAgent, SampleAgent\n",
    "from overcooked_ai_py.visualization.state_visualizer import StateVisualizer"
   ]
  },
  {
   "cell_type": "code",
   "execution_count": 2,
   "id": "fd1cdada",
   "metadata": {},
   "outputs": [
    {
     "name": "stdout",
     "output_type": "stream",
     "text": [
      "Computing MotionPlanner to be saved in /home/asus/Documents/git/over-cooked-test/.env/lib/python3.9/site-packages/overcooked_ai_py/data/planners/cramped_room_mp.pkl\n",
      "It took 0.03664350509643555 seconds to create mp\n"
     ]
    },
    {
     "name": "stderr",
     "output_type": "stream",
     "text": [
      "Avg rew: 40.00 (std: 0.00, se: 0.00); avg len: 100.00; : 100%|██████████████████████████████████████████████████| 1/1 [00:00<00:00, 24.98it/s]\n"
     ]
    }
   ],
   "source": [
    "ae = AgentEvaluator.from_layout_name({\"layout_name\": \"cramped_room\"}, {\"horizon\": 100})\n",
    "trajs = ae.evaluate_human_model_pair()"
   ]
  },
  {
   "cell_type": "code",
   "execution_count": 3,
   "id": "9332984f",
   "metadata": {},
   "outputs": [
    {
     "data": {
      "application/vnd.jupyter.widget-view+json": {
       "model_id": "49742d754d584ff99aee0aeff3acf06b",
       "version_major": 2,
       "version_minor": 0
      },
      "text/plain": [
       "interactive(children=(IntSlider(value=0, description='timestep', max=99), Output()), _dom_classes=('widget-int…"
      ]
     },
     "metadata": {},
     "output_type": "display_data"
    }
   ],
   "source": [
    "action_probs = [ [RandomAgent(all_actions=True).action(state)[1][\"action_probs\"]]*2 for state in trajs[\"ep_states\"][0]]\n",
    "StateVisualizer().display_rendered_trajectory(trajs, ipython_display=True)"
   ]
  },
  {
   "cell_type": "code",
   "execution_count": 4,
   "id": "99066bcf",
   "metadata": {},
   "outputs": [
    {
     "name": "stdout",
     "output_type": "stream",
     "text": [
      "['__class__', '__delattr__', '__dict__', '__dir__', '__doc__', '__eq__', '__format__', '__ge__', '__getattribute__', '__gt__', '__hash__', '__init__', '__init_subclass__', '__le__', '__lt__', '__module__', '__ne__', '__new__', '__reduce__', '__reduce_ex__', '__repr__', '__setattr__', '__sizeof__', '__str__', '__subclasshook__', '__weakref__', '_check_right_types', '_check_standard_traj_keys', '_check_trajectories_dynamics', 'add_metadata_to_traj', 'add_observations_to_trajs_in_metadata', 'check_trajectories', 'evaluate_agent_pair', 'evaluate_human_model_pair', 'evaluate_random_pair', 'events_visualization', 'from_layout_name', 'from_mdp', 'from_mdp_lst', 'from_mdp_params_finite', 'from_mdp_params_infinite', 'get_agent_pair_trajs', 'get_mdps_and_envs_from_trajectories', 'load_traj_from_json', 'load_trajectories', 'make_trajectories_json_serializable', 'merge_trajs', 'remove_traj_idx', 'save_traj_as_json', 'save_trajectories', 'take_traj_indices']\n"
     ]
    }
   ],
   "source": [
    "print(dir(AgentEvaluator))"
   ]
  },
  {
   "cell_type": "code",
   "execution_count": 7,
   "id": "1def4b65",
   "metadata": {},
   "outputs": [
    {
     "name": "stdout",
     "output_type": "stream",
     "text": [
      "['__annotations__', '__call__', '__class__', '__closure__', '__code__', '__defaults__', '__delattr__', '__dict__', '__dir__', '__doc__', '__eq__', '__format__', '__ge__', '__get__', '__getattribute__', '__globals__', '__gt__', '__hash__', '__init__', '__init_subclass__', '__kwdefaults__', '__le__', '__lt__', '__module__', '__name__', '__ne__', '__new__', '__qualname__', '__reduce__', '__reduce_ex__', '__repr__', '__setattr__', '__sizeof__', '__str__', '__subclasshook__']\n"
     ]
    }
   ],
   "source": [
    "print(dir(AgentEvaluator.from_layout_name))"
   ]
  },
  {
   "cell_type": "code",
   "execution_count": 8,
   "id": "fb777db7",
   "metadata": {},
   "outputs": [
    {
     "name": "stdout",
     "output_type": "stream",
     "text": [
      "<code object from_layout_name at 0x7fc49c79fbe0, file \"/home/asus/Documents/git/over-cooked-test/.env/lib/python3.9/site-packages/overcooked_ai_py/agents/benchmarking.py\", line 158>\n"
     ]
    }
   ],
   "source": [
    "print(AgentEvaluator.from_layout_name.__code__)"
   ]
  },
  {
   "cell_type": "code",
   "execution_count": 9,
   "id": "a5a2d670",
   "metadata": {},
   "outputs": [
    {
     "name": "stdout",
     "output_type": "stream",
     "text": [
      "5\n"
     ]
    }
   ],
   "source": [
    "print(AgentEvaluator.from_layout_name.__code__.co_argcount)"
   ]
  },
  {
   "cell_type": "code",
   "execution_count": 12,
   "id": "a52cc105",
   "metadata": {},
   "outputs": [
    {
     "name": "stdout",
     "output_type": "stream",
     "text": [
      "('mdp_params', 'env_params', 'force_compute', 'mlam_params', 'debug', 'mdp')\n"
     ]
    }
   ],
   "source": [
    "print(AgentEvaluator.from_layout_name.__code__.co_varnames)"
   ]
  },
  {
   "cell_type": "code",
   "execution_count": null,
   "id": "53672782",
   "metadata": {},
   "outputs": [],
   "source": []
  }
 ],
 "metadata": {
  "kernelspec": {
   "display_name": "Python 3 (ipykernel)",
   "language": "python",
   "name": "python3"
  },
  "language_info": {
   "codemirror_mode": {
    "name": "ipython",
    "version": 3
   },
   "file_extension": ".py",
   "mimetype": "text/x-python",
   "name": "python",
   "nbconvert_exporter": "python",
   "pygments_lexer": "ipython3",
   "version": "3.9.16"
  }
 },
 "nbformat": 4,
 "nbformat_minor": 5
}
