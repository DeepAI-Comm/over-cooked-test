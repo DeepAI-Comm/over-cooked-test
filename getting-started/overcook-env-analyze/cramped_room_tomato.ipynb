{
 "cells": [
  {
   "cell_type": "code",
   "execution_count": 1,
   "id": "2ca56e3f",
   "metadata": {},
   "outputs": [],
   "source": [
    "from overcooked_ai_py.agents.benchmarking import AgentEvaluator\n",
    "from overcooked_ai_py.agents.agent import AgentPair, FixedPlanAgent, GreedyHumanModel, RandomAgent, SampleAgent\n",
    "from overcooked_ai_py.visualization.state_visualizer import StateVisualizer"
   ]
  },
  {
   "cell_type": "code",
   "execution_count": 2,
   "id": "1b32b882",
   "metadata": {},
   "outputs": [
    {
     "name": "stdout",
     "output_type": "stream",
     "text": [
      "Computing MotionPlanner to be saved in /home/asus/Documents/git/over-cooked-test/.env/lib/python3.9/site-packages/overcooked_ai_py/data/planners/cramped_room_tomato_mp.pkl\n",
      "It took 0.032346487045288086 seconds to create mp\n"
     ]
    },
    {
     "name": "stderr",
     "output_type": "stream",
     "text": [
      "  0%|                                                                                                                   | 0/1 [00:00<?, ?it/s]\n"
     ]
    },
    {
     "ename": "AssertionError",
     "evalue": "The current mid level action manager only support 3-onion-soup order, but got orders[('onion', 'onion', 'onion'), ('tomato', 'tomato', 'tomato'), ('onion', 'tomato')]",
     "output_type": "error",
     "traceback": [
      "\u001b[0;31m---------------------------------------------------------------------------\u001b[0m",
      "\u001b[0;31mAssertionError\u001b[0m                            Traceback (most recent call last)",
      "Cell \u001b[0;32mIn[2], line 2\u001b[0m\n\u001b[1;32m      1\u001b[0m ae \u001b[38;5;241m=\u001b[39m AgentEvaluator\u001b[38;5;241m.\u001b[39mfrom_layout_name({\u001b[38;5;124m\"\u001b[39m\u001b[38;5;124mlayout_name\u001b[39m\u001b[38;5;124m\"\u001b[39m: \u001b[38;5;124m\"\u001b[39m\u001b[38;5;124mcramped_room_tomato\u001b[39m\u001b[38;5;124m\"\u001b[39m}, {\u001b[38;5;124m\"\u001b[39m\u001b[38;5;124mhorizon\u001b[39m\u001b[38;5;124m\"\u001b[39m: \u001b[38;5;241m100\u001b[39m})\n\u001b[0;32m----> 2\u001b[0m trajs \u001b[38;5;241m=\u001b[39m \u001b[43mae\u001b[49m\u001b[38;5;241;43m.\u001b[39;49m\u001b[43mevaluate_human_model_pair\u001b[49m\u001b[43m(\u001b[49m\u001b[43m)\u001b[49m\n",
      "File \u001b[0;32m~/Documents/git/over-cooked-test/.env/lib/python3.9/site-packages/overcooked_ai_py/agents/benchmarking.py:223\u001b[0m, in \u001b[0;36mAgentEvaluator.evaluate_human_model_pair\u001b[0;34m(self, num_games, display, native_eval)\u001b[0m\n\u001b[1;32m    221\u001b[0m a1 \u001b[38;5;241m=\u001b[39m GreedyHumanModel(\u001b[38;5;28mself\u001b[39m\u001b[38;5;241m.\u001b[39menv\u001b[38;5;241m.\u001b[39mmlam)\n\u001b[1;32m    222\u001b[0m agent_pair \u001b[38;5;241m=\u001b[39m AgentPair(a0, a1)\n\u001b[0;32m--> 223\u001b[0m \u001b[38;5;28;01mreturn\u001b[39;00m \u001b[38;5;28;43mself\u001b[39;49m\u001b[38;5;241;43m.\u001b[39;49m\u001b[43mevaluate_agent_pair\u001b[49m\u001b[43m(\u001b[49m\n\u001b[1;32m    224\u001b[0m \u001b[43m    \u001b[49m\u001b[43magent_pair\u001b[49m\u001b[43m,\u001b[49m\n\u001b[1;32m    225\u001b[0m \u001b[43m    \u001b[49m\u001b[43mnum_games\u001b[49m\u001b[38;5;241;43m=\u001b[39;49m\u001b[43mnum_games\u001b[49m\u001b[43m,\u001b[49m\n\u001b[1;32m    226\u001b[0m \u001b[43m    \u001b[49m\u001b[43mdisplay\u001b[49m\u001b[38;5;241;43m=\u001b[39;49m\u001b[43mdisplay\u001b[49m\u001b[43m,\u001b[49m\n\u001b[1;32m    227\u001b[0m \u001b[43m    \u001b[49m\u001b[43mnative_eval\u001b[49m\u001b[38;5;241;43m=\u001b[39;49m\u001b[43mnative_eval\u001b[49m\u001b[43m,\u001b[49m\n\u001b[1;32m    228\u001b[0m \u001b[43m\u001b[49m\u001b[43m)\u001b[49m\n",
      "File \u001b[0;32m~/Documents/git/over-cooked-test/.env/lib/python3.9/site-packages/overcooked_ai_py/agents/benchmarking.py:273\u001b[0m, in \u001b[0;36mAgentEvaluator.evaluate_agent_pair\u001b[0;34m(self, agent_pair, num_games, game_length, start_state_fn, metadata_fn, metadata_info_fn, display, dir, display_phi, info, native_eval)\u001b[0m\n\u001b[1;32m    267\u001b[0m horizon_env\u001b[38;5;241m.\u001b[39mstart_state_fn \u001b[38;5;241m=\u001b[39m (\n\u001b[1;32m    268\u001b[0m     \u001b[38;5;28mself\u001b[39m\u001b[38;5;241m.\u001b[39menv\u001b[38;5;241m.\u001b[39mstart_state_fn\n\u001b[1;32m    269\u001b[0m     \u001b[38;5;28;01mif\u001b[39;00m start_state_fn \u001b[38;5;129;01mis\u001b[39;00m \u001b[38;5;28;01mNone\u001b[39;00m\n\u001b[1;32m    270\u001b[0m     \u001b[38;5;28;01melse\u001b[39;00m start_state_fn\n\u001b[1;32m    271\u001b[0m )\n\u001b[1;32m    272\u001b[0m horizon_env\u001b[38;5;241m.\u001b[39mreset()\n\u001b[0;32m--> 273\u001b[0m \u001b[38;5;28;01mreturn\u001b[39;00m \u001b[43mhorizon_env\u001b[49m\u001b[38;5;241;43m.\u001b[39;49m\u001b[43mget_rollouts\u001b[49m\u001b[43m(\u001b[49m\n\u001b[1;32m    274\u001b[0m \u001b[43m    \u001b[49m\u001b[43magent_pair\u001b[49m\u001b[43m,\u001b[49m\n\u001b[1;32m    275\u001b[0m \u001b[43m    \u001b[49m\u001b[43mnum_games\u001b[49m\u001b[38;5;241;43m=\u001b[39;49m\u001b[43mnum_games\u001b[49m\u001b[43m,\u001b[49m\n\u001b[1;32m    276\u001b[0m \u001b[43m    \u001b[49m\u001b[43mdisplay\u001b[49m\u001b[38;5;241;43m=\u001b[39;49m\u001b[43mdisplay\u001b[49m\u001b[43m,\u001b[49m\n\u001b[1;32m    277\u001b[0m \u001b[43m    \u001b[49m\u001b[38;5;28;43mdir\u001b[39;49m\u001b[38;5;241;43m=\u001b[39;49m\u001b[38;5;28;43mdir\u001b[39;49m\u001b[43m,\u001b[49m\n\u001b[1;32m    278\u001b[0m \u001b[43m    \u001b[49m\u001b[43mdisplay_phi\u001b[49m\u001b[38;5;241;43m=\u001b[39;49m\u001b[43mdisplay_phi\u001b[49m\u001b[43m,\u001b[49m\n\u001b[1;32m    279\u001b[0m \u001b[43m    \u001b[49m\u001b[43minfo\u001b[49m\u001b[38;5;241;43m=\u001b[39;49m\u001b[43minfo\u001b[49m\u001b[43m,\u001b[49m\n\u001b[1;32m    280\u001b[0m \u001b[43m    \u001b[49m\u001b[43mmetadata_fn\u001b[49m\u001b[38;5;241;43m=\u001b[39;49m\u001b[43mmetadata_fn\u001b[49m\u001b[43m,\u001b[49m\n\u001b[1;32m    281\u001b[0m \u001b[43m    \u001b[49m\u001b[43mmetadata_info_fn\u001b[49m\u001b[38;5;241;43m=\u001b[39;49m\u001b[43mmetadata_info_fn\u001b[49m\u001b[43m,\u001b[49m\n\u001b[1;32m    282\u001b[0m \u001b[43m\u001b[49m\u001b[43m)\u001b[49m\n",
      "File \u001b[0;32m~/Documents/git/over-cooked-test/.env/lib/python3.9/site-packages/overcooked_ai_py/mdp/overcooked_env.py:521\u001b[0m, in \u001b[0;36mOvercookedEnv.get_rollouts\u001b[0;34m(self, agent_pair, num_games, display, dir, final_state, display_phi, display_until, metadata_fn, metadata_info_fn, info)\u001b[0m\n\u001b[1;32m    518\u001b[0m \u001b[38;5;28;01mfor\u001b[39;00m i \u001b[38;5;129;01min\u001b[39;00m range_iterator:\n\u001b[1;32m    519\u001b[0m     agent_pair\u001b[38;5;241m.\u001b[39mset_mdp(\u001b[38;5;28mself\u001b[39m\u001b[38;5;241m.\u001b[39mmdp)\n\u001b[0;32m--> 521\u001b[0m     rollout_info \u001b[38;5;241m=\u001b[39m \u001b[38;5;28;43mself\u001b[39;49m\u001b[38;5;241;43m.\u001b[39;49m\u001b[43mrun_agents\u001b[49m\u001b[43m(\u001b[49m\n\u001b[1;32m    522\u001b[0m \u001b[43m        \u001b[49m\u001b[43magent_pair\u001b[49m\u001b[43m,\u001b[49m\n\u001b[1;32m    523\u001b[0m \u001b[43m        \u001b[49m\u001b[43mdisplay\u001b[49m\u001b[38;5;241;43m=\u001b[39;49m\u001b[43mdisplay\u001b[49m\u001b[43m,\u001b[49m\n\u001b[1;32m    524\u001b[0m \u001b[43m        \u001b[49m\u001b[38;5;28;43mdir\u001b[39;49m\u001b[38;5;241;43m=\u001b[39;49m\u001b[38;5;28;43mdir\u001b[39;49m\u001b[43m,\u001b[49m\n\u001b[1;32m    525\u001b[0m \u001b[43m        \u001b[49m\u001b[43minclude_final_state\u001b[49m\u001b[38;5;241;43m=\u001b[39;49m\u001b[43mfinal_state\u001b[49m\u001b[43m,\u001b[49m\n\u001b[1;32m    526\u001b[0m \u001b[43m        \u001b[49m\u001b[43mdisplay_phi\u001b[49m\u001b[38;5;241;43m=\u001b[39;49m\u001b[43mdisplay_phi\u001b[49m\u001b[43m,\u001b[49m\n\u001b[1;32m    527\u001b[0m \u001b[43m        \u001b[49m\u001b[43mdisplay_until\u001b[49m\u001b[38;5;241;43m=\u001b[39;49m\u001b[43mdisplay_until\u001b[49m\u001b[43m,\u001b[49m\n\u001b[1;32m    528\u001b[0m \u001b[43m    \u001b[49m\u001b[43m)\u001b[49m\n\u001b[1;32m    529\u001b[0m     (\n\u001b[1;32m    530\u001b[0m         trajectory,\n\u001b[1;32m    531\u001b[0m         time_taken,\n\u001b[1;32m    532\u001b[0m         tot_rews_sparse,\n\u001b[1;32m    533\u001b[0m         _tot_rews_shaped,\n\u001b[1;32m    534\u001b[0m     ) \u001b[38;5;241m=\u001b[39m rollout_info\n\u001b[1;32m    535\u001b[0m     obs, actions, rews, dones, infos \u001b[38;5;241m=\u001b[39m (\n\u001b[1;32m    536\u001b[0m         trajectory\u001b[38;5;241m.\u001b[39mT[\u001b[38;5;241m0\u001b[39m],\n\u001b[1;32m    537\u001b[0m         trajectory\u001b[38;5;241m.\u001b[39mT[\u001b[38;5;241m1\u001b[39m],\n\u001b[0;32m   (...)\u001b[0m\n\u001b[1;32m    540\u001b[0m         trajectory\u001b[38;5;241m.\u001b[39mT[\u001b[38;5;241m4\u001b[39m],\n\u001b[1;32m    541\u001b[0m     )\n",
      "File \u001b[0;32m~/Documents/git/over-cooked-test/.env/lib/python3.9/site-packages/overcooked_ai_py/mdp/overcooked_env.py:451\u001b[0m, in \u001b[0;36mOvercookedEnv.run_agents\u001b[0;34m(self, agent_pair, include_final_state, display, dir, display_phi, display_until)\u001b[0m\n\u001b[1;32m    448\u001b[0m s_t \u001b[38;5;241m=\u001b[39m \u001b[38;5;28mself\u001b[39m\u001b[38;5;241m.\u001b[39mstate\n\u001b[1;32m    450\u001b[0m \u001b[38;5;66;03m# Getting actions and action infos (optional) for both agents\u001b[39;00m\n\u001b[0;32m--> 451\u001b[0m joint_action_and_infos \u001b[38;5;241m=\u001b[39m \u001b[43magent_pair\u001b[49m\u001b[38;5;241;43m.\u001b[39;49m\u001b[43mjoint_action\u001b[49m\u001b[43m(\u001b[49m\u001b[43ms_t\u001b[49m\u001b[43m)\u001b[49m\n\u001b[1;32m    452\u001b[0m a_t, a_info_t \u001b[38;5;241m=\u001b[39m \u001b[38;5;28mzip\u001b[39m(\u001b[38;5;241m*\u001b[39mjoint_action_and_infos)\n\u001b[1;32m    453\u001b[0m \u001b[38;5;28;01massert\u001b[39;00m \u001b[38;5;28mall\u001b[39m(a \u001b[38;5;129;01min\u001b[39;00m Action\u001b[38;5;241m.\u001b[39mALL_ACTIONS \u001b[38;5;28;01mfor\u001b[39;00m a \u001b[38;5;129;01min\u001b[39;00m a_t)\n",
      "File \u001b[0;32m~/Documents/git/over-cooked-test/.env/lib/python3.9/site-packages/overcooked_ai_py/agents/agent.py:165\u001b[0m, in \u001b[0;36mAgentPair.joint_action\u001b[0;34m(self, state)\u001b[0m\n\u001b[1;32m    163\u001b[0m     \u001b[38;5;28;01mreturn\u001b[39;00m joint_action_and_infos\n\u001b[1;32m    164\u001b[0m \u001b[38;5;28;01melse\u001b[39;00m:\n\u001b[0;32m--> 165\u001b[0m     \u001b[38;5;28;01mreturn\u001b[39;00m \u001b[38;5;28;43msuper\u001b[39;49m\u001b[43m(\u001b[49m\u001b[43m)\u001b[49m\u001b[38;5;241;43m.\u001b[39;49m\u001b[43mjoint_action\u001b[49m\u001b[43m(\u001b[49m\u001b[43mstate\u001b[49m\u001b[43m)\u001b[49m\n",
      "File \u001b[0;32m~/Documents/git/over-cooked-test/.env/lib/python3.9/site-packages/overcooked_ai_py/agents/agent.py:121\u001b[0m, in \u001b[0;36mAgentGroup.joint_action\u001b[0;34m(self, state)\u001b[0m\n\u001b[1;32m    120\u001b[0m \u001b[38;5;28;01mdef\u001b[39;00m \u001b[38;5;21mjoint_action\u001b[39m(\u001b[38;5;28mself\u001b[39m, state):\n\u001b[0;32m--> 121\u001b[0m     actions_and_probs_n \u001b[38;5;241m=\u001b[39m \u001b[38;5;28;43mtuple\u001b[39;49m\u001b[43m(\u001b[49m\u001b[43ma\u001b[49m\u001b[38;5;241;43m.\u001b[39;49m\u001b[43maction\u001b[49m\u001b[43m(\u001b[49m\u001b[43mstate\u001b[49m\u001b[43m)\u001b[49m\u001b[43m \u001b[49m\u001b[38;5;28;43;01mfor\u001b[39;49;00m\u001b[43m \u001b[49m\u001b[43ma\u001b[49m\u001b[43m \u001b[49m\u001b[38;5;129;43;01min\u001b[39;49;00m\u001b[43m \u001b[49m\u001b[38;5;28;43mself\u001b[39;49m\u001b[38;5;241;43m.\u001b[39;49m\u001b[43magents\u001b[49m\u001b[43m)\u001b[49m\n\u001b[1;32m    122\u001b[0m     \u001b[38;5;28;01mreturn\u001b[39;00m actions_and_probs_n\n",
      "File \u001b[0;32m~/Documents/git/over-cooked-test/.env/lib/python3.9/site-packages/overcooked_ai_py/agents/agent.py:121\u001b[0m, in \u001b[0;36m<genexpr>\u001b[0;34m(.0)\u001b[0m\n\u001b[1;32m    120\u001b[0m \u001b[38;5;28;01mdef\u001b[39;00m \u001b[38;5;21mjoint_action\u001b[39m(\u001b[38;5;28mself\u001b[39m, state):\n\u001b[0;32m--> 121\u001b[0m     actions_and_probs_n \u001b[38;5;241m=\u001b[39m \u001b[38;5;28mtuple\u001b[39m(\u001b[43ma\u001b[49m\u001b[38;5;241;43m.\u001b[39;49m\u001b[43maction\u001b[49m\u001b[43m(\u001b[49m\u001b[43mstate\u001b[49m\u001b[43m)\u001b[49m \u001b[38;5;28;01mfor\u001b[39;00m a \u001b[38;5;129;01min\u001b[39;00m \u001b[38;5;28mself\u001b[39m\u001b[38;5;241m.\u001b[39magents)\n\u001b[1;32m    122\u001b[0m     \u001b[38;5;28;01mreturn\u001b[39;00m actions_and_probs_n\n",
      "File \u001b[0;32m~/Documents/git/over-cooked-test/.env/lib/python3.9/site-packages/overcooked_ai_py/agents/agent.py:349\u001b[0m, in \u001b[0;36mGreedyHumanModel.action\u001b[0;34m(self, state)\u001b[0m\n\u001b[1;32m    348\u001b[0m \u001b[38;5;28;01mdef\u001b[39;00m \u001b[38;5;21maction\u001b[39m(\u001b[38;5;28mself\u001b[39m, state):\n\u001b[0;32m--> 349\u001b[0m     possible_motion_goals \u001b[38;5;241m=\u001b[39m \u001b[38;5;28;43mself\u001b[39;49m\u001b[38;5;241;43m.\u001b[39;49m\u001b[43mml_action\u001b[49m\u001b[43m(\u001b[49m\u001b[43mstate\u001b[49m\u001b[43m)\u001b[49m\n\u001b[1;32m    351\u001b[0m     \u001b[38;5;66;03m# Once we have identified the motion goals for the medium\u001b[39;00m\n\u001b[1;32m    352\u001b[0m     \u001b[38;5;66;03m# level action we want to perform, select the one with lowest cost\u001b[39;00m\n\u001b[1;32m    353\u001b[0m     start_pos_and_or \u001b[38;5;241m=\u001b[39m state\u001b[38;5;241m.\u001b[39mplayers_pos_and_or[\u001b[38;5;28mself\u001b[39m\u001b[38;5;241m.\u001b[39magent_index]\n",
      "File \u001b[0;32m~/Documents/git/over-cooked-test/.env/lib/python3.9/site-packages/overcooked_ai_py/agents/agent.py:520\u001b[0m, in \u001b[0;36mGreedyHumanModel.ml_action\u001b[0;34m(self, state)\u001b[0m\n\u001b[1;32m    518\u001b[0m     motion_goals \u001b[38;5;241m=\u001b[39m am\u001b[38;5;241m.\u001b[39mpickup_dish_actions(counter_objects)\n\u001b[1;32m    519\u001b[0m \u001b[38;5;28;01melse\u001b[39;00m:\n\u001b[0;32m--> 520\u001b[0m     \u001b[38;5;28;01massert\u001b[39;00m \u001b[38;5;28mlen\u001b[39m(state\u001b[38;5;241m.\u001b[39mall_orders) \u001b[38;5;241m==\u001b[39m \u001b[38;5;241m1\u001b[39m \u001b[38;5;129;01mand\u001b[39;00m \u001b[38;5;28mlist\u001b[39m(\n\u001b[1;32m    521\u001b[0m         state\u001b[38;5;241m.\u001b[39mall_orders[\u001b[38;5;241m0\u001b[39m]\u001b[38;5;241m.\u001b[39mingredients\n\u001b[1;32m    522\u001b[0m     ) \u001b[38;5;241m==\u001b[39m [\u001b[38;5;124m\"\u001b[39m\u001b[38;5;124monion\u001b[39m\u001b[38;5;124m\"\u001b[39m, \u001b[38;5;124m\"\u001b[39m\u001b[38;5;124monion\u001b[39m\u001b[38;5;124m\"\u001b[39m, \u001b[38;5;124m\"\u001b[39m\u001b[38;5;124monion\u001b[39m\u001b[38;5;124m\"\u001b[39m], (\n\u001b[1;32m    523\u001b[0m         \u001b[38;5;124m\"\u001b[39m\u001b[38;5;124mThe current mid level action manager only support 3-onion-soup order, but got orders\u001b[39m\u001b[38;5;124m\"\u001b[39m\n\u001b[1;32m    524\u001b[0m         \u001b[38;5;241m+\u001b[39m \u001b[38;5;28mstr\u001b[39m(state\u001b[38;5;241m.\u001b[39mall_orders)\n\u001b[1;32m    525\u001b[0m     )\n\u001b[1;32m    526\u001b[0m     next_order \u001b[38;5;241m=\u001b[39m \u001b[38;5;28mlist\u001b[39m(state\u001b[38;5;241m.\u001b[39mall_orders)[\u001b[38;5;241m0\u001b[39m]\n\u001b[1;32m    527\u001b[0m     soups_ready_to_cook_key \u001b[38;5;241m=\u001b[39m \u001b[38;5;124m\"\u001b[39m\u001b[38;5;132;01m{}\u001b[39;00m\u001b[38;5;124m_items\u001b[39m\u001b[38;5;124m\"\u001b[39m\u001b[38;5;241m.\u001b[39mformat(\n\u001b[1;32m    528\u001b[0m         \u001b[38;5;28mlen\u001b[39m(next_order\u001b[38;5;241m.\u001b[39mingredients)\n\u001b[1;32m    529\u001b[0m     )\n",
      "\u001b[0;31mAssertionError\u001b[0m: The current mid level action manager only support 3-onion-soup order, but got orders[('onion', 'onion', 'onion'), ('tomato', 'tomato', 'tomato'), ('onion', 'tomato')]"
     ]
    }
   ],
   "source": [
    "ae = AgentEvaluator.from_layout_name({\"layout_name\": \"cramped_room_tomato\"}, {\"horizon\": 100})\n",
    "trajs = ae.evaluate_human_model_pair()"
   ]
  },
  {
   "cell_type": "code",
   "execution_count": null,
   "id": "03f743c7",
   "metadata": {},
   "outputs": [],
   "source": []
  }
 ],
 "metadata": {
  "kernelspec": {
   "display_name": "Python 3 (ipykernel)",
   "language": "python",
   "name": "python3"
  },
  "language_info": {
   "codemirror_mode": {
    "name": "ipython",
    "version": 3
   },
   "file_extension": ".py",
   "mimetype": "text/x-python",
   "name": "python",
   "nbconvert_exporter": "python",
   "pygments_lexer": "ipython3",
   "version": "3.9.16"
  }
 },
 "nbformat": 4,
 "nbformat_minor": 5
}
